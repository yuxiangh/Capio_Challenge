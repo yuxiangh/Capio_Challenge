{
 "cells": [ 
  {
   "cell_type": "markdown",
   "metadata": {
    "collapsed": true
   },
   "source": [
    "# Unit test of different function\n"
   ]
  },
  {
   "cell_type": "code",
   "execution_count": null,
   "metadata": {
    "collapsed": true
   },
   "outputs": [],
   "source": [
    "import json as js"
   ]
  },
  {
   "cell_type": "code",
   "execution_count": 16,
   "metadata": {},
   "outputs": [
    {
     "name": "stdout",
     "output_type": "stream",
     "text": [
      "  % Total    % Received % Xferd  Average Speed   Time    Time     Time  Current\n",
      "                                 Dload  Upload   Total   Spent    Left  Speed\n",
      "100 60146  100 60146    0     0  60146      0  0:00:01 --:--:--  0:00:01  100k\n"
     ]
    }
   ],
   "source": [
    "#download the data and create a json file \n",
    "!curl -X GET https://api.capio.ai/v1/speech/transcript/593f237fbcae700012ba8fcd --header \"apiKey: 262ac9a0c9ba4d179aad4c0b9b02120a\" > capio.json\n"
   ]
  },
  {
   "cell_type": "code",
   "execution_count": 57,
   "metadata": {
    "collapsed": true
   },
   "outputs": [],
   "source": [
    "#read data\n",
    "with open('capio.json', 'rt') as f:\n",
    "    data = f.read()"
   ]
  },
  {
   "cell_type": "code",
   "execution_count": 82,
   "metadata": {
    "collapsed": true
   },
   "outputs": [],
   "source": [
    "#json decode data \n",
    "capio_data=js.loads(data)"
   ]
  },
  {
   "cell_type": "code",
   "execution_count": 64,
   "metadata": {},
   "outputs": [
    {
     "data": {
      "text/plain": [
       "[{'confidence': 1,\n",
       "  'from': 0.6899999976158142,\n",
       "  'to': 1.2899999618530273,\n",
       "  'word': 'um'}]"
      ]
     },
     "execution_count": 64,
     "metadata": {},
     "output_type": "execute_result"
    }
   ],
   "source": [
    "#hava a look at specific format \n",
    "capio_data[0][\"result\"][0][\"alternative\"][0][\"words\"]\n"
   ]
  },
  {
   "cell_type": "markdown",
   "metadata": {},
   "source": [
    "# Data Prepocessing part\n"
   ]
  },
  {
   "cell_type": "code",
   "execution_count": 8,
   "metadata": {
    "collapsed": true
   },
   "outputs": [],
   "source": [
    "#data-prepocessing steps\n",
    "def transfer_data(alist):\n",
    "    all_info=[]\n",
    "    for i in range(0,len(alist)):\n",
    "        all_info.append(alist[i][\"result\"][0][\"alternative\"][0][\"words\"])\n",
    "    return all_info"
   ]
  },
  {
   "cell_type": "code",
   "execution_count": 66,
   "metadata": {
    "collapsed": true
   },
   "outputs": [],
   "source": [
    "clean_data=transfer_data(capio_data)"
   ]
  },
  {
   "cell_type": "code",
   "execution_count": 67,
   "metadata": {},
   "outputs": [
    {
     "data": {
      "text/plain": [
       "[{'confidence': 1,\n",
       "  'from': 9.710000038146973,\n",
       "  'to': 9.860000610351562,\n",
       "  'word': 'they'},\n",
       " {'confidence': 1,\n",
       "  'from': 9.860000610351562,\n",
       "  'to': 10.039999961853027,\n",
       "  'word': \"don't\"},\n",
       " {'confidence': 1,\n",
       "  'from': 10.039999961853027,\n",
       "  'to': 10.280000686645508,\n",
       "  'word': 'learn'},\n",
       " {'confidence': 1,\n",
       "  'from': 10.280000686645508,\n",
       "  'to': 10.730000495910645,\n",
       "  'word': 'enough'}]"
      ]
     },
     "execution_count": 67,
     "metadata": {},
     "output_type": "execute_result"
    }
   ],
   "source": [
    "clean_data[2]"
   ]
  },
  {
   "cell_type": "code",
   "execution_count": 9,
   "metadata": {
    "collapsed": true
   },
   "outputs": [],
   "source": [
    "#construct the new data structures according to the clean data because we will let some words become red\n",
    "def construct_sentence(alist):\n",
    "    whole_sentence=[]\n",
    "    for i in range(0,len(alist)):\n",
    "        new_list=[]    \n",
    "        word_list=[]\n",
    "        red_list=[]   #have low confidence\n",
    "        super_red_list=[] #have lower confidence\n",
    "        for j in range(0,len(alist[i])):\n",
    "            word_info=alist[i][j]\n",
    "            word=word_info[\"word\"]\n",
    "            if word_info[\"confidence\"]<=0.75 and word_info[\"confidence\"]>=0.7:\n",
    "                red_list.append(j)\n",
    "            if word_info[\"confidence\"]<0.7:\n",
    "                super_red_list.append(j)\n",
    "            word_list.append(word)\n",
    "        new_list.append(\"Begin stamp is: \"+str(alist[i][0][\"from\"]))\n",
    "        new_list.append(word_list)\n",
    "        new_list.append(red_list)\n",
    "        new_list.append(super_red_list)\n",
    "        whole_sentence.append(new_list)\n",
    "    return whole_sentence"
   ]
  },
  {
   "cell_type": "code",
   "execution_count": 92,
   "metadata": {
    "collapsed": true
   },
   "outputs": [],
   "source": [
    "capio_data=construct_sentence(clean_data)"
   ]
  },
  {
   "cell_type": "code",
   "execution_count": 93,
   "metadata": {},
   "outputs": [
    {
     "data": {
      "text/plain": [
       "['Begin stamp is: 0.6899999976158142', ['um'], [], []]"
      ]
     },
     "execution_count": 93,
     "metadata": {},
     "output_type": "execute_result"
    }
   ],
   "source": [
    "capio_data[0] #the data structure is [time,[word],[red_word],[super_red_word]]"
   ]
  },
  {
   "cell_type": "code",
   "execution_count": 95,
   "metadata": {},
   "outputs": [
    {
     "data": {
      "text/plain": [
       "['Begin stamp is: 0.6899999976158142', ['um'], [], []]"
      ]
     },
     "execution_count": 95,
     "metadata": {},
     "output_type": "execute_result"
    }
   ],
   "source": [
    "capio_data[0]"
   ]
  },
  {
   "cell_type": "markdown",
   "metadata": {},
   "source": [
    "# Write_to_Docx function"
   ]
  },
  {
   "cell_type": "code",
   "execution_count": 11,
   "metadata": {
    "collapsed": true
   },
   "outputs": [],
   "source": [
    "from docx import Document\n",
    "from docx.shared import Inches\n",
    "from docx.shared import RGBColor\n",
    "def write_doc(data,astring):\n",
    "    document = Document()\n",
    "    document.add_heading(\"Capio Python Code Challenge\", 0)\n",
    "    for i in range(0,len(data)):\n",
    "        sentence=data[i]\n",
    "        time=sentence[0]\n",
    "        words=sentence[1]\n",
    "        red_list=sentence[2]\n",
    "        super_red_list=sentence[3]\n",
    "\n",
    "        #if the confidence is between 0.7 and 0.75, we will use erythrine\n",
    "        #if the confidence is lower than 0.7, we will use rose-red color \n",
    "        p=document.add_paragraph(time+\", Transcript result: \")\n",
    "        p.add_run(\" \")\n",
    "        for j in range(len(words)):\n",
    "            if j not in red_list and j not in super_red_list:\n",
    "                p.add_run(words[j])\n",
    "            else:\n",
    "                if j in red_list:\n",
    "                    red_word=p.add_run(words[j])\n",
    "                    red_word.font.color.rgb=RGBColor(255,127,80)\n",
    "                else:\n",
    "                    red_word=p.add_run(words[j])\n",
    "                    red_word.font.color.rgb=RGBColor(255,0,0)\n",
    "            p.add_run(\" \")\n",
    "    document.save(astring)"
   ]
  },
  {
   "cell_type": "code",
   "execution_count": 102,
   "metadata": {
    "collapsed": true
   },
   "outputs": [],
   "source": [
    "write_doc(capio_data,\"capio_data_challenge.docx\")"
   ]
  },
  {
   "cell_type": "markdown",
   "metadata": {},
   "source": [
    "# Main function\n"
   ]
  },
  {
   "cell_type": "code",
   "execution_count": 17,
   "metadata": {},
   "outputs": [],
   "source": [
    "\n",
    "def main():\n",
    "    with open('capio.json', 'rt') as f:\n",
    "        data = f.read()\n",
    "    capio_data=js.loads(data)\n",
    "    clean_data=transfer_data(capio_data)\n",
    "    capio_data=construct_sentence(clean_data)\n",
    "    write_doc(capio_data,\"capio_data_challenge.docx\")\n",
    "if __name__==\"__main__\":\n",
    "    main()"
   ]
  },
  {
   "cell_type": "markdown",
   "metadata": {},
   "source": [
    "# Test Part if json file is not empty "
   ]
  },
  {
   "cell_type": "code",
   "execution_count": 80,
   "metadata": {
    "collapsed": true
   },
   "outputs": [],
   "source": [
    "#create some easy json file but with low confidence,union test"
   ]
  },
  {
   "cell_type": "code",
   "execution_count": 83,
   "metadata": {
    "collapsed": true
   },
   "outputs": [],
   "source": [
    "test=result=\"\"\"[  \n",
    "  {  \n",
    "    \"result\":[  \n",
    "      {  \n",
    "        \"alternative\":[  \n",
    "          {  \n",
    "            \"confidence\":1,\n",
    "            \"transcript\":\"how do i get a passport\",\n",
    "            \"words\":[  \n",
    "              {  \n",
    "                \"confidence\":0.42,\n",
    "                \"from\":0.02,\n",
    "                \"to\":0.14,\n",
    "                \"word\":\"how\"\n",
    "              },\n",
    "              {  \n",
    "                \"confidence\":0.62,\n",
    "                \"from\":0.14,\n",
    "                \"to\":0.27,\n",
    "                \"word\":\"do\"\n",
    "              },\n",
    "              {  \n",
    "                \"confidence\":0.53,\n",
    "                \"from\":0.27,\n",
    "                \"to\":0.32,\n",
    "                \"word\":\"i\"\n",
    "              },\n",
    "              {  \n",
    "                \"confidence\":0.99,\n",
    "                \"from\":0.32,\n",
    "                \"to\":0.49,\n",
    "                \"word\":\"get\"\n",
    "              },\n",
    "              {  \n",
    "                \"confidence\":0.72,\n",
    "                \"from\":0.49,\n",
    "                \"to\":0.54,\n",
    "                \"word\":\"a\"\n",
    "              },\n",
    "              {  \n",
    "                \"confidence\":0.99,\n",
    "                \"from\":0.54,\n",
    "                \"to\":1.25,\n",
    "                \"word\":\"passport\"\n",
    "              }\n",
    "            ]\n",
    "          }\n",
    "        ],\n",
    "        \"final\":true\n",
    "      }\n",
    "    ],\n",
    "    \"result_index\":0\n",
    "  }\n",
    "]\"\"\";"
   ]
  },
  {
   "cell_type": "code",
   "execution_count": 84,
   "metadata": {
    "collapsed": true
   },
   "outputs": [],
   "source": [
    "test_data=js.loads(test)"
   ]
  },
  {
   "cell_type": "code",
   "execution_count": 86,
   "metadata": {
    "collapsed": true
   },
   "outputs": [],
   "source": [
    "test_clean_data=transfer_data(test_data)"
   ]
  },
  {
   "cell_type": "code",
   "execution_count": 87,
   "metadata": {
    "collapsed": true
   },
   "outputs": [],
   "source": [
    "test_final_data=construct_sentence(test_clean_data)"
   ]
  },
  {
   "cell_type": "code",
   "execution_count": 103,
   "metadata": {
    "collapsed": true
   },
   "outputs": [],
   "source": [
    "write_doc(test_final_data,\"test_result.docx\")"
   ]
  },
  {
   "cell_type": "markdown",
   "metadata": {
    "collapsed": true
   },
   "source": [
    "# Test Part Two-if the json file is empty"
   ]
  },
  {
   "cell_type": "code",
   "execution_count": 5,
   "metadata": {
    "collapsed": true
   },
   "outputs": [],
   "source": [
    "test_2=\"\"\"[]\n",
    "\"\"\";"
   ]
  },
  {
   "cell_type": "code",
   "execution_count": 3,
   "metadata": {
    "collapsed": true
   },
   "outputs": [],
   "source": [
    "import json as js"
   ]
  },
  {
   "cell_type": "code",
   "execution_count": 6,
   "metadata": {},
   "outputs": [],
   "source": [
    "test2_data=js.loads(test_2)"
   ]
  },
  {
   "cell_type": "code",
   "execution_count": 12,
   "metadata": {},
   "outputs": [],
   "source": [
    "test_2_clean_data=transfer_data(test2_data)"
   ]
  },
  {
   "cell_type": "code",
   "execution_count": 13,
   "metadata": {
    "collapsed": true
   },
   "outputs": [],
   "source": [
    "test2_final_data=construct_sentence(test_2_clean_data)"
   ]
  },
  {
   "cell_type": "code",
   "execution_count": 14,
   "metadata": {
    "collapsed": true
   },
   "outputs": [],
   "source": [
    "write_doc(test2_final_data,\"test2_result.docx\")"
   ]
  },
  {
   "cell_type": "code",
   "execution_count": null,
   "metadata": {
    "collapsed": true
   },
   "outputs": [],
   "source": []
  }
 ],
 "metadata": {
  "kernelspec": {
   "display_name": "Python 3",
   "language": "python",
   "name": "python3"
  },
  "language_info": {
   "codemirror_mode": {
    "name": "ipython",
    "version": 3
   },
   "file_extension": ".py",
   "mimetype": "text/x-python",
   "name": "python",
   "nbconvert_exporter": "python",
   "pygments_lexer": "ipython3",
   "version": "3.6.2"
  }
 },
 "nbformat": 4,
 "nbformat_minor": 2
}
